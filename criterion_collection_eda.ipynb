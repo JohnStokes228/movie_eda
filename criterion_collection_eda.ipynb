{
 "cells": [
  {
   "cell_type": "code",
   "execution_count": 18,
   "metadata": {},
   "outputs": [],
   "source": [
    "import nltk\n",
    "import pandas as pd\n",
    "import matplotlib.pyplot as plt\n",
    "import seaborn as sns\n",
    "import os\n",
    "import numpy as np"
   ]
  },
  {
   "cell_type": "code",
   "execution_count": 64,
   "metadata": {},
   "outputs": [],
   "source": [
    "spine_df = pd.read_json('data/criterion_list.json')\n",
    "info_df = pd.read_json('data/criterion_movie_info.json')\n",
    "\n",
    "df = pd.merge(spine_df, info_df, on='url', how='left')\n",
    "\n",
    "del spine_df\n",
    "del info_df"
   ]
  },
  {
   "cell_type": "code",
   "execution_count": 12,
   "metadata": {},
   "outputs": [
    {
     "data": {
      "text/html": [
       "<div>\n",
       "<style scoped>\n",
       "    .dataframe tbody tr th:only-of-type {\n",
       "        vertical-align: middle;\n",
       "    }\n",
       "\n",
       "    .dataframe tbody tr th {\n",
       "        vertical-align: top;\n",
       "    }\n",
       "\n",
       "    .dataframe thead th {\n",
       "        text-align: right;\n",
       "    }\n",
       "</style>\n",
       "<table border=\"1\" class=\"dataframe\">\n",
       "  <thead>\n",
       "    <tr style=\"text-align: right;\">\n",
       "      <th></th>\n",
       "      <th>country</th>\n",
       "      <th>director</th>\n",
       "      <th>spine_number</th>\n",
       "      <th>title</th>\n",
       "      <th>url</th>\n",
       "      <th>year_of_release</th>\n",
       "      <th>aspect_ratio</th>\n",
       "      <th>blurb</th>\n",
       "      <th>cast</th>\n",
       "      <th>colour</th>\n",
       "      <th>credits</th>\n",
       "      <th>date_scraped</th>\n",
       "      <th>formats</th>\n",
       "      <th>language</th>\n",
       "      <th>run_time</th>\n",
       "      <th>time_scraped</th>\n",
       "    </tr>\n",
       "  </thead>\n",
       "  <tbody>\n",
       "    <tr>\n",
       "      <th>0</th>\n",
       "      <td>France,</td>\n",
       "      <td>Jean-Luc Godard</td>\n",
       "      <td>482</td>\n",
       "      <td>2 or 3 Things I Know About Her</td>\n",
       "      <td>https://www.criterion.com/films/1333-2-or-3-th...</td>\n",
       "      <td>1967</td>\n",
       "      <td>2.35:1</td>\n",
       "      <td>In 2 or 3 Things I Know About Her (2 ou 3 chos...</td>\n",
       "      <td>Marina Vlady, Anny Duperey, Joseph Gerhard, Ro...</td>\n",
       "      <td>Color</td>\n",
       "      <td>Director Jean-Luc Godard Screenplay Jean-Luc G...</td>\n",
       "      <td>20122020</td>\n",
       "      <td>DVD</td>\n",
       "      <td>French</td>\n",
       "      <td>87 minutes</td>\n",
       "      <td>213735</td>\n",
       "    </tr>\n",
       "    <tr>\n",
       "      <th>1</th>\n",
       "      <td>United States,</td>\n",
       "      <td>Delmer Daves</td>\n",
       "      <td>657</td>\n",
       "      <td>3:10 to Yuma</td>\n",
       "      <td>https://www.criterion.com/films/27910-3-10-to-...</td>\n",
       "      <td>1957</td>\n",
       "      <td>1.85:1</td>\n",
       "      <td>In this beautifully shot, psychologically comp...</td>\n",
       "      <td>Glenn Ford, Van Heflin, Felicia Farr, Leora Da...</td>\n",
       "      <td>Black &amp; White</td>\n",
       "      <td>Director Delmer Daves Produced by David Heilwe...</td>\n",
       "      <td>20122020</td>\n",
       "      <td>Blu-Ray, DVD</td>\n",
       "      <td>English</td>\n",
       "      <td>92 minutes</td>\n",
       "      <td>213735</td>\n",
       "    </tr>\n",
       "    <tr>\n",
       "      <th>2</th>\n",
       "      <td></td>\n",
       "      <td></td>\n",
       "      <td>327</td>\n",
       "      <td>3 Films by Louis Malle</td>\n",
       "      <td>https://www.criterion.com/boxsets/397-3-films-...</td>\n",
       "      <td></td>\n",
       "      <td></td>\n",
       "      <td>Few directors have portrayed the agonies and e...</td>\n",
       "      <td></td>\n",
       "      <td></td>\n",
       "      <td></td>\n",
       "      <td>20122020</td>\n",
       "      <td>DVD</td>\n",
       "      <td></td>\n",
       "      <td></td>\n",
       "      <td>213735</td>\n",
       "    </tr>\n",
       "    <tr>\n",
       "      <th>3</th>\n",
       "      <td></td>\n",
       "      <td></td>\n",
       "      <td>672</td>\n",
       "      <td>3 Films by Roberto Rossellini Starring Ingrid ...</td>\n",
       "      <td>https://www.criterion.com/boxsets/982-3-films-...</td>\n",
       "      <td></td>\n",
       "      <td></td>\n",
       "      <td>In the late 1940s, the incandescent Hollywood ...</td>\n",
       "      <td></td>\n",
       "      <td></td>\n",
       "      <td></td>\n",
       "      <td>20122020</td>\n",
       "      <td>Blu-Ray, DVD</td>\n",
       "      <td></td>\n",
       "      <td></td>\n",
       "      <td>213735</td>\n",
       "    </tr>\n",
       "    <tr>\n",
       "      <th>4</th>\n",
       "      <td></td>\n",
       "      <td></td>\n",
       "      <td>528</td>\n",
       "      <td>3 Silent Classics by Josef von Sternberg</td>\n",
       "      <td>https://www.criterion.com/boxsets/744-3-silent...</td>\n",
       "      <td></td>\n",
       "      <td></td>\n",
       "      <td>Vienna-born, New York-raised Josef von Sternbe...</td>\n",
       "      <td></td>\n",
       "      <td></td>\n",
       "      <td></td>\n",
       "      <td>20122020</td>\n",
       "      <td>Blu-Ray</td>\n",
       "      <td></td>\n",
       "      <td></td>\n",
       "      <td>213735</td>\n",
       "    </tr>\n",
       "  </tbody>\n",
       "</table>\n",
       "</div>"
      ],
      "text/plain": [
       "          country         director spine_number  \\\n",
       "0         France,  Jean-Luc Godard          482   \n",
       "1  United States,     Delmer Daves          657   \n",
       "2                                           327   \n",
       "3                                           672   \n",
       "4                                           528   \n",
       "\n",
       "                                               title  \\\n",
       "0                     2 or 3 Things I Know About Her   \n",
       "1                                       3:10 to Yuma   \n",
       "2                             3 Films by Louis Malle   \n",
       "3  3 Films by Roberto Rossellini Starring Ingrid ...   \n",
       "4           3 Silent Classics by Josef von Sternberg   \n",
       "\n",
       "                                                 url year_of_release  \\\n",
       "0  https://www.criterion.com/films/1333-2-or-3-th...            1967   \n",
       "1  https://www.criterion.com/films/27910-3-10-to-...            1957   \n",
       "2  https://www.criterion.com/boxsets/397-3-films-...                   \n",
       "3  https://www.criterion.com/boxsets/982-3-films-...                   \n",
       "4  https://www.criterion.com/boxsets/744-3-silent...                   \n",
       "\n",
       "  aspect_ratio                                              blurb  \\\n",
       "0       2.35:1  In 2 or 3 Things I Know About Her (2 ou 3 chos...   \n",
       "1       1.85:1  In this beautifully shot, psychologically comp...   \n",
       "2               Few directors have portrayed the agonies and e...   \n",
       "3               In the late 1940s, the incandescent Hollywood ...   \n",
       "4               Vienna-born, New York-raised Josef von Sternbe...   \n",
       "\n",
       "                                                cast         colour  \\\n",
       "0  Marina Vlady, Anny Duperey, Joseph Gerhard, Ro...          Color   \n",
       "1  Glenn Ford, Van Heflin, Felicia Farr, Leora Da...  Black & White   \n",
       "2                                                                     \n",
       "3                                                                     \n",
       "4                                                                     \n",
       "\n",
       "                                             credits  date_scraped  \\\n",
       "0  Director Jean-Luc Godard Screenplay Jean-Luc G...      20122020   \n",
       "1  Director Delmer Daves Produced by David Heilwe...      20122020   \n",
       "2                                                         20122020   \n",
       "3                                                         20122020   \n",
       "4                                                         20122020   \n",
       "\n",
       "        formats language    run_time  time_scraped  \n",
       "0           DVD   French  87 minutes        213735  \n",
       "1  Blu-Ray, DVD  English  92 minutes        213735  \n",
       "2           DVD                             213735  \n",
       "3  Blu-Ray, DVD                             213735  \n",
       "4       Blu-Ray                             213735  "
      ]
     },
     "execution_count": 12,
     "metadata": {},
     "output_type": "execute_result"
    }
   ],
   "source": [
    "df.head()"
   ]
  },
  {
   "cell_type": "code",
   "execution_count": 14,
   "metadata": {},
   "outputs": [
    {
     "data": {
      "text/plain": [
       "['country',\n",
       " 'director',\n",
       " 'spine_number',\n",
       " 'title',\n",
       " 'url',\n",
       " 'year_of_release',\n",
       " 'aspect_ratio',\n",
       " 'blurb',\n",
       " 'cast',\n",
       " 'colour',\n",
       " 'credits',\n",
       " 'date_scraped',\n",
       " 'formats',\n",
       " 'language',\n",
       " 'run_time',\n",
       " 'time_scraped']"
      ]
     },
     "execution_count": 14,
     "metadata": {},
     "output_type": "execute_result"
    }
   ],
   "source": [
    "list(df.columns)"
   ]
  },
  {
   "cell_type": "markdown",
   "metadata": {},
   "source": [
    "we dont need scrape time variables for this investigation since non of the info is time sensitive"
   ]
  },
  {
   "cell_type": "code",
   "execution_count": 65,
   "metadata": {},
   "outputs": [],
   "source": [
    "df.drop(['date_scraped', 'time_scraped'], axis=1, inplace=True)"
   ]
  },
  {
   "cell_type": "code",
   "execution_count": 15,
   "metadata": {},
   "outputs": [
    {
     "name": "stdout",
     "output_type": "stream",
     "text": [
      "<class 'pandas.core.frame.DataFrame'>\n",
      "Int64Index: 1441 entries, 0 to 1440\n",
      "Data columns (total 16 columns):\n",
      " #   Column           Non-Null Count  Dtype \n",
      "---  ------           --------------  ----- \n",
      " 0   country          1441 non-null   object\n",
      " 1   director         1441 non-null   object\n",
      " 2   spine_number     1441 non-null   object\n",
      " 3   title            1441 non-null   object\n",
      " 4   url              1441 non-null   object\n",
      " 5   year_of_release  1441 non-null   object\n",
      " 6   aspect_ratio     1441 non-null   object\n",
      " 7   blurb            1441 non-null   object\n",
      " 8   cast             1441 non-null   object\n",
      " 9   colour           1441 non-null   object\n",
      " 10  credits          1441 non-null   object\n",
      " 11  date_scraped     1441 non-null   int64 \n",
      " 12  formats          1441 non-null   object\n",
      " 13  language         1441 non-null   object\n",
      " 14  run_time         1441 non-null   object\n",
      " 15  time_scraped     1441 non-null   int64 \n",
      "dtypes: int64(2), object(14)\n",
      "memory usage: 191.4+ KB\n"
     ]
    }
   ],
   "source": [
    "df.info()"
   ]
  },
  {
   "cell_type": "markdown",
   "metadata": {},
   "source": [
    "**looks like the empty values aren't currently registering as NULL** \n",
    "\n",
    "to solve this i will replace empty strings with NULL value"
   ]
  },
  {
   "cell_type": "code",
   "execution_count": 66,
   "metadata": {},
   "outputs": [
    {
     "name": "stdout",
     "output_type": "stream",
     "text": [
      "<class 'pandas.core.frame.DataFrame'>\n",
      "Int64Index: 1441 entries, 0 to 1440\n",
      "Data columns (total 14 columns):\n",
      " #   Column           Non-Null Count  Dtype \n",
      "---  ------           --------------  ----- \n",
      " 0   country          1320 non-null   object\n",
      " 1   director         1319 non-null   object\n",
      " 2   spine_number     1071 non-null   object\n",
      " 3   title            1441 non-null   object\n",
      " 4   url              1441 non-null   object\n",
      " 5   year_of_release  1312 non-null   object\n",
      " 6   aspect_ratio     1314 non-null   object\n",
      " 7   blurb            1441 non-null   object\n",
      " 8   cast             1320 non-null   object\n",
      " 9   colour           1313 non-null   object\n",
      " 10  credits          1276 non-null   object\n",
      " 11  formats          997 non-null    object\n",
      " 12  language         1306 non-null   object\n",
      " 13  run_time         1321 non-null   object\n",
      "dtypes: object(14)\n",
      "memory usage: 168.9+ KB\n"
     ]
    }
   ],
   "source": [
    "df.replace('', np.NaN, inplace=True)\n",
    "\n",
    "df.info()"
   ]
  },
  {
   "cell_type": "markdown",
   "metadata": {},
   "source": [
    "I have a feeling that alot of these NULLs will fall into the same few products since \n",
    "it looks like the box sets are largely null in the same set of columns. \n",
    "\n",
    "**to test this, I will create a NULL heatmap.**"
   ]
  },
  {
   "cell_type": "code",
   "execution_count": 67,
   "metadata": {},
   "outputs": [
    {
     "data": {
      "text/plain": [
       "<AxesSubplot:>"
      ]
     },
     "execution_count": 67,
     "metadata": {},
     "output_type": "execute_result"
    },
    {
     "data": {
      "image/png": "[encoded data removed]",
      "text/plain": [
       "<Figure size 432x288 with 2 Axes>"
      ]
     },
     "metadata": {
      "needs_background": "light"
     },
     "output_type": "display_data"
    }
   ],
   "source": [
    "sns.heatmap(df.isnull())"
   ]
  },
  {
   "cell_type": "markdown",
   "metadata": {},
   "source": [
    "so there are NULLs in spine_number and formats that seem largely unpatterned, whilst NULLs in other\n",
    "columns appear to frequently fall on the same rows as expected. \n",
    "\n",
    "I believe spine number NULLs are very likely to be exclusively movies who appear in box sets rather than individually\n",
    "\n",
    "next for the sake of QAing the data I'd like to look at some unique values"
   ]
  },
  {
   "cell_type": "code",
   "execution_count": 30,
   "metadata": {},
   "outputs": [
    {
     "data": {
      "text/html": [
       "<div>\n",
       "<style scoped>\n",
       "    .dataframe tbody tr th:only-of-type {\n",
       "        vertical-align: middle;\n",
       "    }\n",
       "\n",
       "    .dataframe tbody tr th {\n",
       "        vertical-align: top;\n",
       "    }\n",
       "\n",
       "    .dataframe thead th {\n",
       "        text-align: right;\n",
       "    }\n",
       "</style>\n",
       "<table border=\"1\" class=\"dataframe\">\n",
       "  <thead>\n",
       "    <tr style=\"text-align: right;\">\n",
       "      <th></th>\n",
       "      <th>country</th>\n",
       "      <th>director</th>\n",
       "      <th>spine_number</th>\n",
       "      <th>title</th>\n",
       "      <th>url</th>\n",
       "      <th>year_of_release</th>\n",
       "      <th>aspect_ratio</th>\n",
       "      <th>blurb</th>\n",
       "      <th>cast</th>\n",
       "      <th>colour</th>\n",
       "      <th>credits</th>\n",
       "      <th>formats</th>\n",
       "      <th>language</th>\n",
       "      <th>run_time</th>\n",
       "    </tr>\n",
       "  </thead>\n",
       "  <tbody>\n",
       "    <tr>\n",
       "      <th>count</th>\n",
       "      <td>1320</td>\n",
       "      <td>1319</td>\n",
       "      <td>1071</td>\n",
       "      <td>1441</td>\n",
       "      <td>1441</td>\n",
       "      <td>1312</td>\n",
       "      <td>1314</td>\n",
       "      <td>1441</td>\n",
       "      <td>1320</td>\n",
       "      <td>1313</td>\n",
       "      <td>1276</td>\n",
       "      <td>997</td>\n",
       "      <td>1306</td>\n",
       "      <td>1321</td>\n",
       "    </tr>\n",
       "    <tr>\n",
       "      <th>unique</th>\n",
       "      <td>46</td>\n",
       "      <td>526</td>\n",
       "      <td>1070</td>\n",
       "      <td>1433</td>\n",
       "      <td>1441</td>\n",
       "      <td>97</td>\n",
       "      <td>34</td>\n",
       "      <td>1436</td>\n",
       "      <td>1311</td>\n",
       "      <td>10</td>\n",
       "      <td>1273</td>\n",
       "      <td>9</td>\n",
       "      <td>98</td>\n",
       "      <td>169</td>\n",
       "    </tr>\n",
       "    <tr>\n",
       "      <th>top</th>\n",
       "      <td>United States,</td>\n",
       "      <td>Ingmar Bergman</td>\n",
       "      <td>88</td>\n",
       "      <td>The Killers</td>\n",
       "      <td>https://www.criterion.com/films/554-ma-tresse</td>\n",
       "      <td>1966</td>\n",
       "      <td>1.33:1</td>\n",
       "      <td>Jean Renoir and Akira Kurosawa, two of cinema'...</td>\n",
       "      <td>Director</td>\n",
       "      <td>Color</td>\n",
       "      <td>Director Vilgot Sjoman Producer Goran Lindgren...</td>\n",
       "      <td>Blu-Ray, DVD</td>\n",
       "      <td>English</td>\n",
       "      <td>96 minutes</td>\n",
       "    </tr>\n",
       "    <tr>\n",
       "      <th>freq</th>\n",
       "      <td>405</td>\n",
       "      <td>41</td>\n",
       "      <td>2</td>\n",
       "      <td>3</td>\n",
       "      <td>1</td>\n",
       "      <td>40</td>\n",
       "      <td>394</td>\n",
       "      <td>3</td>\n",
       "      <td>6</td>\n",
       "      <td>695</td>\n",
       "      <td>2</td>\n",
       "      <td>654</td>\n",
       "      <td>528</td>\n",
       "      <td>41</td>\n",
       "    </tr>\n",
       "  </tbody>\n",
       "</table>\n",
       "</div>"
      ],
      "text/plain": [
       "               country        director spine_number        title  \\\n",
       "count             1320            1319         1071         1441   \n",
       "unique              46             526         1070         1433   \n",
       "top     United States,  Ingmar Bergman           88  The Killers   \n",
       "freq               405              41            2            3   \n",
       "\n",
       "                                                  url year_of_release  \\\n",
       "count                                            1441            1312   \n",
       "unique                                           1441              97   \n",
       "top     https://www.criterion.com/films/554-ma-tresse            1966   \n",
       "freq                                                1              40   \n",
       "\n",
       "       aspect_ratio                                              blurb  \\\n",
       "count          1314                                               1441   \n",
       "unique           34                                               1436   \n",
       "top          1.33:1  Jean Renoir and Akira Kurosawa, two of cinema'...   \n",
       "freq            394                                                  3   \n",
       "\n",
       "            cast colour                                            credits  \\\n",
       "count       1320   1313                                               1276   \n",
       "unique      1311     10                                               1273   \n",
       "top     Director  Color  Director Vilgot Sjoman Producer Goran Lindgren...   \n",
       "freq           6    695                                                  2   \n",
       "\n",
       "             formats language    run_time  \n",
       "count            997     1306        1321  \n",
       "unique             9       98         169  \n",
       "top     Blu-Ray, DVD  English  96 minutes  \n",
       "freq             654      528          41  "
      ]
     },
     "execution_count": 30,
     "metadata": {},
     "output_type": "execute_result"
    }
   ],
   "source": [
    "df.describe()"
   ]
  },
  {
   "cell_type": "markdown",
   "metadata": {},
   "source": [
    "standing out to me here are:\n",
    "- **colour** as i can't guess what other than colour or B&W could be options here\n",
    "- **formats** as other than DVD and BluRay what formats are there\n",
    "- **language** as i wasnt aware there existed 98 languages\n",
    "- country \n",
    "- aspect_ratio \n",
    "- year_of_release\n"
   ]
  },
  {
   "cell_type": "markdown",
   "metadata": {},
   "source": [
    "**Colour**"
   ]
  },
  {
   "cell_type": "code",
   "execution_count": 31,
   "metadata": {},
   "outputs": [
    {
     "data": {
      "text/plain": [
       "['Color',\n",
       " 'Black & White',\n",
       " nan,\n",
       " 'Black and White/Color',\n",
       " '1.37:1',\n",
       " '2.35:1',\n",
       " '1.33:1',\n",
       " '1.85:1',\n",
       " '1.66:1',\n",
       " '1.33:1/1.78:1',\n",
       " '1.78:1']"
      ]
     },
     "execution_count": 31,
     "metadata": {},
     "output_type": "execute_result"
    }
   ],
   "source": [
    "list(df.colour.unique())"
   ]
  },
  {
   "cell_type": "markdown",
   "metadata": {},
   "source": [
    "looks like the issues are as follows:\n",
    "- the aspect ratios are languages\n",
    "- the colours are aspect ratios\n",
    "- the languages are spine numbers\n",
    "- the run time is occasionally the colour\n",
    "\n",
    "to solve this i will:\n",
    "1. set langauge to aspect ratio\n",
    "2. set aspect ratio to colour\n",
    "3. move run time to colour in cases where this makes sense, else set to NaN\n",
    "4. set colours in the run time to NaN\n",
    "\n",
    "this turned out to not quite be true from some further fiddling so the following edits, whilst accurate for the data arent quite what i listed above. cant be arsed to relist though so deal with it yeah."
   ]
  },
  {
   "cell_type": "code",
   "execution_count": 97,
   "metadata": {},
   "outputs": [],
   "source": [
    "colour_asp = list(df[(df.aspect_ratio.str.contains('[a-z]') == True) & (df.aspect_ratio.isin(['Black & White', 'Color']))].index)\n",
    "lang_asp = list(df[(df.aspect_ratio.str.contains('[a-z]') == True) & (~df.aspect_ratio.isin(['Black & White', 'Color']))].index)\n",
    "\n",
    "df.loc[df.index.isin(colour_asp), 'colour'] = df.loc[df.index.isin(colour_asp), 'aspect_ratio']\n",
    "df.loc[df.index.isin(lang_asp), 'language'] = df.loc[df.index.isin(lang_asp), 'aspect_ratio']\n",
    "\n",
    "df.loc[df.colour.str.contains('[a-z]') == False, 'aspect_ratio'] = df.loc[df.colour.str.contains('[a-z]') == False, 'colour']\n",
    "df.loc[df.colour.str.contains('[a-z]') == False, 'colour'] = np.nan\n",
    "\n",
    "df.loc[df.run_time.str.contains('[0-9]') == False, 'colour'] = df.loc[df.run_time.str.contains('[0-9]') == False, 'run_time']\n",
    "df.loc[df.run_time.str.contains('[0-9]') == False, 'run_time'] = np.nan\n",
    "\n",
    "df.loc[~df.language.isnull() & df.language.str.contains('Spine #'), 'language'] = np.nan\n",
    "df.loc[df.language.str.contains('[a-z]') == False, 'aspect_ratio'] = df.loc[df.language.str.contains('[a-z]') == False, 'language']\n",
    "df.loc[df.language.str.contains('[a-z]') == False, 'language'] = np.nan\n",
    "\n",
    "df.loc[df.aspect_ratio.str.contains('[0-9]') == False, 'aspect_ratio'] = np.nan"
   ]
  },
  {
   "cell_type": "markdown",
   "metadata": {},
   "source": [
    "so now every cell contains the correct value, so its time to start doing some cleaning. some ideas are:\n",
    "- remove the pointless commas from the country of origin\n",
    "- remove the word /minuets from all the run times so it can just be saved as int since theyre all given as minuets anywho\n",
    "- set dtypes correctly\n"
   ]
  },
  {
   "cell_type": "code",
   "execution_count": 159,
   "metadata": {},
   "outputs": [],
   "source": [
    "df.run_time = df.run_time.str.replace(' minutes', '').astype('float')\n",
    "\n",
    "df.country = df.country.str.replace(',', '')\n",
    "\n",
    "df.year_of_release = pd.to_datetime(df.year_of_release).dt.year\n",
    "# looks like its gone to float anyways - because of the NAs? pandas is so dumb man wtf...\n"
   ]
  },
  {
   "cell_type": "markdown",
   "metadata": {},
   "source": [
    "next up we'll be doing some basic feature creation, with ideas including:\n",
    "- boxset yes or no\n",
    "- english language yes or no\n",
    "- dvd vs blu ray rather than the 8 types of dvd vs blu ray"
   ]
  },
  {
   "cell_type": "code",
   "execution_count": 178,
   "metadata": {},
   "outputs": [],
   "source": [
    "df.to_csv('data/criterion_cleaned.csv', index=False)"
   ]
  }
 ],
 "metadata": {
  "kernelspec": {
   "display_name": "Python 3",
   "language": "python",
   "name": "python3"
  },
  "language_info": {
   "codemirror_mode": {
    "name": "ipython",
    "version": 3
   },
   "file_extension": ".py",
   "mimetype": "text/x-python",
   "name": "python",
   "nbconvert_exporter": "python",
   "pygments_lexer": "ipython3",
   "version": "3.7.7"
  }
 },
 "nbformat": 4,
 "nbformat_minor": 4
}
