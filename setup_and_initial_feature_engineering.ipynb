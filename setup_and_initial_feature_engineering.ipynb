{
 "cells": [
  {
   "cell_type": "code",
   "execution_count": 1,
   "metadata": {},
   "outputs": [],
   "source": [
    "import nltk\n",
    "import pandas as pd\n",
    "import matplotlib.pyplot as plt\n",
    "import seaborn as sns\n",
    "import numpy as np\n",
    "import pycountry_convert as pcc"
   ]
  },
  {
   "cell_type": "code",
   "execution_count": 18,
   "metadata": {},
   "outputs": [],
   "source": [
    "spine_df = pd.read_json('data/criterion_list.json')\n",
    "\n",
    "boxsets_info_df = pd.read_json('data/criterion_boxsets.json')\n",
    "single_info_df = pd.read_json('data/criterion_single_movies.json')\n",
    "\n",
    "info_df = pd.concat([boxsets_info_df, single_info_df], axis=0, ignore_index=True)\n",
    "\n",
    "df = pd.merge(spine_df, info_df, on='url', how='left')\n",
    "\n",
    "df.drop(['date_scraped', 'time_scraped'], axis=1, inplace=True)\n",
    "df.replace('', np.NaN, inplace=True)\n",
    "\n",
    "del spine_df\n",
    "del info_df\n",
    "del boxsets_info_df\n",
    "del single_info_df"
   ]
  },
  {
   "cell_type": "code",
   "execution_count": 14,
   "metadata": {},
   "outputs": [
    {
     "data": {
      "text/html": [
       "<div>\n",
       "<style scoped>\n",
       "    .dataframe tbody tr th:only-of-type {\n",
       "        vertical-align: middle;\n",
       "    }\n",
       "\n",
       "    .dataframe tbody tr th {\n",
       "        vertical-align: top;\n",
       "    }\n",
       "\n",
       "    .dataframe thead th {\n",
       "        text-align: right;\n",
       "    }\n",
       "</style>\n",
       "<table border=\"1\" class=\"dataframe\">\n",
       "  <thead>\n",
       "    <tr style=\"text-align: right;\">\n",
       "      <th></th>\n",
       "      <th>country</th>\n",
       "      <th>director</th>\n",
       "      <th>spine_number</th>\n",
       "      <th>title</th>\n",
       "      <th>url</th>\n",
       "      <th>year_of_release</th>\n",
       "      <th>aspect_ratio</th>\n",
       "      <th>blurb</th>\n",
       "      <th>cast</th>\n",
       "      <th>colour</th>\n",
       "      <th>credits</th>\n",
       "      <th>films_contained</th>\n",
       "      <th>formats</th>\n",
       "      <th>language</th>\n",
       "      <th>run_time</th>\n",
       "      <th>special_features</th>\n",
       "    </tr>\n",
       "  </thead>\n",
       "  <tbody>\n",
       "    <tr>\n",
       "      <th>0</th>\n",
       "      <td>France,</td>\n",
       "      <td>Jean-Luc Godard</td>\n",
       "      <td>482</td>\n",
       "      <td>2 or 3 Things I Know About Her</td>\n",
       "      <td>https://www.criterion.com/films/1333-2-or-3-th...</td>\n",
       "      <td>1967</td>\n",
       "      <td>2.35:1</td>\n",
       "      <td>In 2 or 3 Things I Know About Her (2 ou 3 chos...</td>\n",
       "      <td>Marina Vlady, Anny Duperey, Joseph Gerhard, Ro...</td>\n",
       "      <td>Color</td>\n",
       "      <td>Director Jean-Luc Godard Screenplay Jean-Luc G...</td>\n",
       "      <td>NaN</td>\n",
       "      <td>DVD</td>\n",
       "      <td>French</td>\n",
       "      <td>87 minutes</td>\n",
       "      <td>New, restored high-definition digital transfer...</td>\n",
       "    </tr>\n",
       "    <tr>\n",
       "      <th>1</th>\n",
       "      <td>United States,</td>\n",
       "      <td>Delmer Daves</td>\n",
       "      <td>657</td>\n",
       "      <td>3:10 to Yuma</td>\n",
       "      <td>https://www.criterion.com/films/27910-3-10-to-...</td>\n",
       "      <td>1957</td>\n",
       "      <td>1.85:1</td>\n",
       "      <td>In this beautifully shot, psychologically comp...</td>\n",
       "      <td>Glenn Ford, Van Heflin, Felicia Farr, Leora Da...</td>\n",
       "      <td>Black &amp; White</td>\n",
       "      <td>Director Delmer Daves Produced by David Heilwe...</td>\n",
       "      <td>NaN</td>\n",
       "      <td>Blu-Ray, DVD</td>\n",
       "      <td>English</td>\n",
       "      <td>92 minutes</td>\n",
       "      <td>New, restored 4K digital film transfer, with u...</td>\n",
       "    </tr>\n",
       "    <tr>\n",
       "      <th>2</th>\n",
       "      <td></td>\n",
       "      <td></td>\n",
       "      <td>327</td>\n",
       "      <td>3 Films by Louis Malle</td>\n",
       "      <td>https://www.criterion.com/boxsets/397-3-films-...</td>\n",
       "      <td></td>\n",
       "      <td></td>\n",
       "      <td>Few directors have portrayed the agonies and e...</td>\n",
       "      <td></td>\n",
       "      <td></td>\n",
       "      <td></td>\n",
       "      <td>Au revoir les enfants, Murmur of the Heart, La...</td>\n",
       "      <td>DVD</td>\n",
       "      <td></td>\n",
       "      <td>NaN</td>\n",
       "      <td>New, restored high-definition digital transfer...</td>\n",
       "    </tr>\n",
       "    <tr>\n",
       "      <th>3</th>\n",
       "      <td></td>\n",
       "      <td></td>\n",
       "      <td>672</td>\n",
       "      <td>3 Films by Roberto Rossellini Starring Ingrid ...</td>\n",
       "      <td>https://www.criterion.com/boxsets/982-3-films-...</td>\n",
       "      <td></td>\n",
       "      <td></td>\n",
       "      <td>In the late 1940s, the incandescent Hollywood ...</td>\n",
       "      <td></td>\n",
       "      <td></td>\n",
       "      <td></td>\n",
       "      <td>Journey to Italy, Europe '51, Stromboli</td>\n",
       "      <td>Blu-Ray, DVD</td>\n",
       "      <td></td>\n",
       "      <td>NaN</td>\n",
       "      <td>New digital restorations of the English- and I...</td>\n",
       "    </tr>\n",
       "    <tr>\n",
       "      <th>4</th>\n",
       "      <td></td>\n",
       "      <td></td>\n",
       "      <td>528</td>\n",
       "      <td>3 Silent Classics by Josef von Sternberg</td>\n",
       "      <td>https://www.criterion.com/boxsets/744-3-silent...</td>\n",
       "      <td></td>\n",
       "      <td></td>\n",
       "      <td>Vienna-born, New York-raised Josef von Sternbe...</td>\n",
       "      <td></td>\n",
       "      <td></td>\n",
       "      <td></td>\n",
       "      <td>The Docks of New York, The Last Command, Under...</td>\n",
       "      <td>Blu-Ray</td>\n",
       "      <td></td>\n",
       "      <td>NaN</td>\n",
       "      <td>High-definition digital restorations of all th...</td>\n",
       "    </tr>\n",
       "  </tbody>\n",
       "</table>\n",
       "</div>"
      ],
      "text/plain": [
       "          country         director spine_number  \\\n",
       "0         France,  Jean-Luc Godard          482   \n",
       "1  United States,     Delmer Daves          657   \n",
       "2                                           327   \n",
       "3                                           672   \n",
       "4                                           528   \n",
       "\n",
       "                                               title  \\\n",
       "0                     2 or 3 Things I Know About Her   \n",
       "1                                       3:10 to Yuma   \n",
       "2                             3 Films by Louis Malle   \n",
       "3  3 Films by Roberto Rossellini Starring Ingrid ...   \n",
       "4           3 Silent Classics by Josef von Sternberg   \n",
       "\n",
       "                                                 url year_of_release  \\\n",
       "0  https://www.criterion.com/films/1333-2-or-3-th...            1967   \n",
       "1  https://www.criterion.com/films/27910-3-10-to-...            1957   \n",
       "2  https://www.criterion.com/boxsets/397-3-films-...                   \n",
       "3  https://www.criterion.com/boxsets/982-3-films-...                   \n",
       "4  https://www.criterion.com/boxsets/744-3-silent...                   \n",
       "\n",
       "  aspect_ratio                                              blurb  \\\n",
       "0       2.35:1  In 2 or 3 Things I Know About Her (2 ou 3 chos...   \n",
       "1       1.85:1  In this beautifully shot, psychologically comp...   \n",
       "2               Few directors have portrayed the agonies and e...   \n",
       "3               In the late 1940s, the incandescent Hollywood ...   \n",
       "4               Vienna-born, New York-raised Josef von Sternbe...   \n",
       "\n",
       "                                                cast         colour  \\\n",
       "0  Marina Vlady, Anny Duperey, Joseph Gerhard, Ro...          Color   \n",
       "1  Glenn Ford, Van Heflin, Felicia Farr, Leora Da...  Black & White   \n",
       "2                                                                     \n",
       "3                                                                     \n",
       "4                                                                     \n",
       "\n",
       "                                             credits  \\\n",
       "0  Director Jean-Luc Godard Screenplay Jean-Luc G...   \n",
       "1  Director Delmer Daves Produced by David Heilwe...   \n",
       "2                                                      \n",
       "3                                                      \n",
       "4                                                      \n",
       "\n",
       "                                     films_contained       formats language  \\\n",
       "0                                                NaN           DVD   French   \n",
       "1                                                NaN  Blu-Ray, DVD  English   \n",
       "2  Au revoir les enfants, Murmur of the Heart, La...           DVD            \n",
       "3            Journey to Italy, Europe '51, Stromboli  Blu-Ray, DVD            \n",
       "4  The Docks of New York, The Last Command, Under...       Blu-Ray            \n",
       "\n",
       "     run_time                                   special_features  \n",
       "0  87 minutes  New, restored high-definition digital transfer...  \n",
       "1  92 minutes  New, restored 4K digital film transfer, with u...  \n",
       "2         NaN  New, restored high-definition digital transfer...  \n",
       "3         NaN  New digital restorations of the English- and I...  \n",
       "4         NaN  High-definition digital restorations of all th...  "
      ]
     },
     "execution_count": 14,
     "metadata": {},
     "output_type": "execute_result"
    }
   ],
   "source": [
    "df.head()"
   ]
  },
  {
   "cell_type": "code",
   "execution_count": 15,
   "metadata": {},
   "outputs": [
    {
     "data": {
      "text/plain": [
       "['country',\n",
       " 'director',\n",
       " 'spine_number',\n",
       " 'title',\n",
       " 'url',\n",
       " 'year_of_release',\n",
       " 'aspect_ratio',\n",
       " 'blurb',\n",
       " 'cast',\n",
       " 'colour',\n",
       " 'credits',\n",
       " 'films_contained',\n",
       " 'formats',\n",
       " 'language',\n",
       " 'run_time',\n",
       " 'special_features']"
      ]
     },
     "execution_count": 15,
     "metadata": {},
     "output_type": "execute_result"
    }
   ],
   "source": [
    "list(df.columns)"
   ]
  },
  {
   "cell_type": "code",
   "execution_count": 19,
   "metadata": {},
   "outputs": [
    {
     "name": "stdout",
     "output_type": "stream",
     "text": [
      "<class 'pandas.core.frame.DataFrame'>\n",
      "Int64Index: 1441 entries, 0 to 1440\n",
      "Data columns (total 16 columns):\n",
      " #   Column            Non-Null Count  Dtype \n",
      "---  ------            --------------  ----- \n",
      " 0   country           1320 non-null   object\n",
      " 1   director          1319 non-null   object\n",
      " 2   spine_number      1071 non-null   object\n",
      " 3   title             1441 non-null   object\n",
      " 4   url               1441 non-null   object\n",
      " 5   year_of_release   1312 non-null   object\n",
      " 6   aspect_ratio      1314 non-null   object\n",
      " 7   blurb             1441 non-null   object\n",
      " 8   cast              1320 non-null   object\n",
      " 9   colour            1313 non-null   object\n",
      " 10  credits           1276 non-null   object\n",
      " 11  films_contained   120 non-null    object\n",
      " 12  formats           997 non-null    object\n",
      " 13  language          1306 non-null   object\n",
      " 14  run_time          1321 non-null   object\n",
      " 15  special_features  1047 non-null   object\n",
      "dtypes: object(16)\n",
      "memory usage: 191.4+ KB\n"
     ]
    }
   ],
   "source": [
    "df.info()"
   ]
  },
  {
   "cell_type": "markdown",
   "metadata": {},
   "source": [
    "I have a feeling that alot of these NULLs will fall into the same few products since \n",
    "it looks like the box sets are largely null in the same set of columns. \n",
    "\n",
    "**to test this, I will create a NULL heatmap.**"
   ]
  },
  {
   "cell_type": "code",
   "execution_count": 20,
   "metadata": {},
   "outputs": [
    {
     "data": {
      "text/plain": [
       "<AxesSubplot:>"
      ]
     },
     "execution_count": 20,
     "metadata": {},
     "output_type": "execute_result"
    },
    {
     "data": {
      "image/png": "[encoded data removed]",
      "text/plain": [
       "<Figure size 432x288 with 2 Axes>"
      ]
     },
     "metadata": {
      "needs_background": "light"
     },
     "output_type": "display_data"
    }
   ],
   "source": [
    "sns.heatmap(df.isnull())"
   ]
  },
  {
   "cell_type": "markdown",
   "metadata": {},
   "source": [
    "so there are NULLs in spine_number and formats that seem largely unpatterned, whilst NULLs in other\n",
    "columns appear to frequently fall on the same rows as expected. \n",
    "\n",
    "I believe spine number NULLs are very likely to be exclusively movies who appear in box sets rather than individually\n",
    "\n",
    "next for the sake of QAing the data I'd like to look at some unique values"
   ]
  },
  {
   "cell_type": "code",
   "execution_count": 21,
   "metadata": {},
   "outputs": [
    {
     "data": {
      "text/html": [
       "<div>\n",
       "<style scoped>\n",
       "    .dataframe tbody tr th:only-of-type {\n",
       "        vertical-align: middle;\n",
       "    }\n",
       "\n",
       "    .dataframe tbody tr th {\n",
       "        vertical-align: top;\n",
       "    }\n",
       "\n",
       "    .dataframe thead th {\n",
       "        text-align: right;\n",
       "    }\n",
       "</style>\n",
       "<table border=\"1\" class=\"dataframe\">\n",
       "  <thead>\n",
       "    <tr style=\"text-align: right;\">\n",
       "      <th></th>\n",
       "      <th>country</th>\n",
       "      <th>director</th>\n",
       "      <th>spine_number</th>\n",
       "      <th>title</th>\n",
       "      <th>url</th>\n",
       "      <th>year_of_release</th>\n",
       "      <th>aspect_ratio</th>\n",
       "      <th>blurb</th>\n",
       "      <th>cast</th>\n",
       "      <th>colour</th>\n",
       "      <th>credits</th>\n",
       "      <th>films_contained</th>\n",
       "      <th>formats</th>\n",
       "      <th>language</th>\n",
       "      <th>run_time</th>\n",
       "      <th>special_features</th>\n",
       "    </tr>\n",
       "  </thead>\n",
       "  <tbody>\n",
       "    <tr>\n",
       "      <th>count</th>\n",
       "      <td>1320</td>\n",
       "      <td>1319</td>\n",
       "      <td>1071</td>\n",
       "      <td>1441</td>\n",
       "      <td>1441</td>\n",
       "      <td>1312</td>\n",
       "      <td>1314</td>\n",
       "      <td>1441</td>\n",
       "      <td>1320</td>\n",
       "      <td>1313</td>\n",
       "      <td>1276</td>\n",
       "      <td>120</td>\n",
       "      <td>997</td>\n",
       "      <td>1306</td>\n",
       "      <td>1321</td>\n",
       "      <td>1047</td>\n",
       "    </tr>\n",
       "    <tr>\n",
       "      <th>unique</th>\n",
       "      <td>46</td>\n",
       "      <td>526</td>\n",
       "      <td>1070</td>\n",
       "      <td>1433</td>\n",
       "      <td>1441</td>\n",
       "      <td>97</td>\n",
       "      <td>34</td>\n",
       "      <td>1436</td>\n",
       "      <td>1311</td>\n",
       "      <td>10</td>\n",
       "      <td>1273</td>\n",
       "      <td>120</td>\n",
       "      <td>9</td>\n",
       "      <td>98</td>\n",
       "      <td>169</td>\n",
       "      <td>1040</td>\n",
       "    </tr>\n",
       "    <tr>\n",
       "      <th>top</th>\n",
       "      <td>United States,</td>\n",
       "      <td>Ingmar Bergman</td>\n",
       "      <td>88</td>\n",
       "      <td>The Killers</td>\n",
       "      <td>https://www.criterion.com/boxsets/427-eclipse-...</td>\n",
       "      <td>1966</td>\n",
       "      <td>1.33:1</td>\n",
       "      <td>Jean Renoir and Akira Kurosawa, two of cinema'...</td>\n",
       "      <td>Director</td>\n",
       "      <td>Color</td>\n",
       "      <td>Director Vilgot Sjoman Producer Goran Lindgren...</td>\n",
       "      <td>Kings of the Road, Alice in the Cities, Wrong ...</td>\n",
       "      <td>Blu-Ray, DVD</td>\n",
       "      <td>English</td>\n",
       "      <td>96 minutes</td>\n",
       "      <td>New digital transfer of The Emperor Jones, cre...</td>\n",
       "    </tr>\n",
       "    <tr>\n",
       "      <th>freq</th>\n",
       "      <td>405</td>\n",
       "      <td>41</td>\n",
       "      <td>2</td>\n",
       "      <td>3</td>\n",
       "      <td>1</td>\n",
       "      <td>40</td>\n",
       "      <td>394</td>\n",
       "      <td>3</td>\n",
       "      <td>6</td>\n",
       "      <td>695</td>\n",
       "      <td>2</td>\n",
       "      <td>1</td>\n",
       "      <td>654</td>\n",
       "      <td>528</td>\n",
       "      <td>41</td>\n",
       "      <td>2</td>\n",
       "    </tr>\n",
       "  </tbody>\n",
       "</table>\n",
       "</div>"
      ],
      "text/plain": [
       "               country        director spine_number        title  \\\n",
       "count             1320            1319         1071         1441   \n",
       "unique              46             526         1070         1433   \n",
       "top     United States,  Ingmar Bergman           88  The Killers   \n",
       "freq               405              41            2            3   \n",
       "\n",
       "                                                      url year_of_release  \\\n",
       "count                                                1441            1312   \n",
       "unique                                               1441              97   \n",
       "top     https://www.criterion.com/boxsets/427-eclipse-...            1966   \n",
       "freq                                                    1              40   \n",
       "\n",
       "       aspect_ratio                                              blurb  \\\n",
       "count          1314                                               1441   \n",
       "unique           34                                               1436   \n",
       "top          1.33:1  Jean Renoir and Akira Kurosawa, two of cinema'...   \n",
       "freq            394                                                  3   \n",
       "\n",
       "            cast colour                                            credits  \\\n",
       "count       1320   1313                                               1276   \n",
       "unique      1311     10                                               1273   \n",
       "top     Director  Color  Director Vilgot Sjoman Producer Goran Lindgren...   \n",
       "freq           6    695                                                  2   \n",
       "\n",
       "                                          films_contained       formats  \\\n",
       "count                                                 120           997   \n",
       "unique                                                120             9   \n",
       "top     Kings of the Road, Alice in the Cities, Wrong ...  Blu-Ray, DVD   \n",
       "freq                                                    1           654   \n",
       "\n",
       "       language    run_time                                   special_features  \n",
       "count      1306        1321                                               1047  \n",
       "unique       98         169                                               1040  \n",
       "top     English  96 minutes  New digital transfer of The Emperor Jones, cre...  \n",
       "freq        528          41                                                  2  "
      ]
     },
     "execution_count": 21,
     "metadata": {},
     "output_type": "execute_result"
    }
   ],
   "source": [
    "df.describe()"
   ]
  },
  {
   "cell_type": "markdown",
   "metadata": {},
   "source": [
    "standing out to me here are:\n",
    "- **colour** as i can't guess what other than colour or B&W could be options here\n",
    "- **formats** as other than DVD and BluRay what formats are there\n",
    "- **language** as i wasnt aware there existed 98 languages\n",
    "- country \n",
    "- aspect_ratio \n",
    "- year_of_release\n"
   ]
  },
  {
   "cell_type": "markdown",
   "metadata": {},
   "source": [
    "**Colour**"
   ]
  },
  {
   "cell_type": "code",
   "execution_count": 22,
   "metadata": {},
   "outputs": [
    {
     "data": {
      "text/plain": [
       "['Color',\n",
       " 'Black & White',\n",
       " nan,\n",
       " 'Black and White/Color',\n",
       " '1.37:1',\n",
       " '2.35:1',\n",
       " '1.33:1',\n",
       " '1.85:1',\n",
       " '1.66:1',\n",
       " '1.33:1/1.78:1',\n",
       " '1.78:1']"
      ]
     },
     "execution_count": 22,
     "metadata": {},
     "output_type": "execute_result"
    }
   ],
   "source": [
    "list(df.colour.unique())"
   ]
  },
  {
   "cell_type": "markdown",
   "metadata": {},
   "source": [
    "bro those is aspect ratios!!\n",
    "\n",
    "from further investigation I have come up with the following method of cleaning the fuzziness surrounding certain columns:\n",
    "- in cases where colour or langauge are in aspect_ratio, these values are moved into their correct columns\n",
    "- in cases where aspect ratio is in colour this is moved into aspect_ratio, and then the colour is set to NaN as it is not salvageable\n",
    "- in cases where colour is stored in run_time this is moved into colour and then run_time is set to NaN\n",
    "- in cases where language contains spine number this is replaced with NaN\n",
    "- in cases where language contains aspect_ratio this is moved into aspect ratio then lanuage is set to NaN\n",
    "- cases where aspect ratio still isnt a true aspect ratio value are then set to NaN\n",
    "- single films are set to contain themselves."
   ]
  },
  {
   "cell_type": "code",
   "execution_count": 23,
   "metadata": {},
   "outputs": [],
   "source": [
    "colour_asp = list(df[(df.aspect_ratio.isin(['Black & White', 'Color']))].index)\n",
    "lang_asp = list(df[(df.aspect_ratio.str.contains('[a-z]') == True) & (~df.aspect_ratio.isin(['Black & White', 'Color']))].index)\n",
    "\n",
    "df.loc[df.index.isin(colour_asp), 'colour'] = df.loc[df.index.isin(colour_asp), 'aspect_ratio']\n",
    "df.loc[df.index.isin(lang_asp), 'language'] = df.loc[df.index.isin(lang_asp), 'aspect_ratio']\n",
    "\n",
    "df.loc[df.colour.str.contains('[a-z]') == False, 'aspect_ratio'] = df.loc[df.colour.str.contains('[a-z]') == False, 'colour']\n",
    "df.loc[df.colour.str.contains('[a-z]') == False, 'colour'] = np.nan\n",
    "\n",
    "df.loc[df.run_time.str.contains('[0-9]') == False, 'colour'] = df.loc[df.run_time.str.contains('[0-9]') == False, 'run_time']\n",
    "df.loc[df.run_time.str.contains('[0-9]') == False, 'run_time'] = np.nan\n",
    "\n",
    "df.loc[~df.language.isnull() & df.language.str.contains('Spine #'), 'language'] = np.nan\n",
    "df.loc[df.language.str.contains('[a-z]') == False, 'aspect_ratio'] = df.loc[df.language.str.contains('[a-z]') == False, 'language']\n",
    "df.loc[df.language.str.contains('[a-z]') == False, 'language'] = np.nan\n",
    "\n",
    "df.loc[df.aspect_ratio.str.contains('[0-9]') == False, 'aspect_ratio'] = np.nan\n",
    "\n",
    "df.loc[df.films_contained.isna(), 'films_contained'] = df.title"
   ]
  },
  {
   "cell_type": "markdown",
   "metadata": {},
   "source": [
    "now every cell contains the correct value, so its time to start doing some cleaning\n",
    "\n",
    "for now this is very basic but might do some more later i dunno\n",
    "\n",
    "SPOILER - came back and remembered this weeks later, I did not do some more hahaha"
   ]
  },
  {
   "cell_type": "code",
   "execution_count": 24,
   "metadata": {},
   "outputs": [],
   "source": [
    "df.run_time = df.run_time.str.replace(' minutes', '').astype('float')\n",
    "\n",
    "df.country = df.country.str.replace(',', '')"
   ]
  },
  {
   "cell_type": "markdown",
   "metadata": {},
   "source": [
    "**Feature Creation**\n",
    "\n",
    "next up we'll be doing some basic feature creation. initially I will focus on just some basic useful binaries that might be of use:\n"
   ]
  },
  {
   "cell_type": "code",
   "execution_count": 95,
   "metadata": {},
   "outputs": [],
   "source": [
    "df['decade_of_release'] = df['year_of_release'].str[:3] + '0'\n",
    "\n",
    "df['dvd'] =  np.where(df['formats'].str.contains('DVD', na=False), 1, 0)\n",
    "df['bluray'] = np.where(df['formats'].str.contains('Blu-Ray', na=False), 1, 0)\n",
    "\n",
    "df['english'] = np.where(df['language'].str.contains('English', na=False), 1, 0)\n",
    "\n",
    "df['boxset'] = np.where(df['url'].str.contains('boxset', na=False), 1, 0)\n",
    "\n",
    "df['available_individually'] = np.select([(df['boxset'] == 0) & (df['spine_number'].isna()),\n",
    "                                          (df['boxset'] == 0) & (~df['spine_number'].isna())],\n",
    "                                         [0, 1], default=np.nan)  # set nan where boxsets occur"
   ]
  },
  {
   "cell_type": "markdown",
   "metadata": {},
   "source": [
    "next just because i can as much as anything I'd like to create a 'sets included in' variable, listing any boxsets a given film is contained within. This will be set to NaN for films only available as single releases / boxsets\n",
    "\n",
    "the following method is not the msot readable, but is alot faster than the alternative I was using before that just utilised loops. thanks to this thread:\n",
    "https://stackoverflow.com/questions/53342715/pandas-dataframe-select-rows-where-a-list-column-contains-any-of-a-list-of-strin\n",
    "for providing the basis for the code"
   ]
  },
  {
   "cell_type": "code",
   "execution_count": 135,
   "metadata": {},
   "outputs": [],
   "source": [
    "def get_boxsets_contained_in(\n",
    "    title,\n",
    "    boxsets,\n",
    "):\n",
    "    \"\"\"Function that gets the boxsets a given film is included in, or returns nan if its not in any.\n",
    "    \n",
    "    Parameters\n",
    "    ----------\n",
    "    title : string\n",
    "        The title of the movie.\n",
    "    boxsets : pd.DataFrame\n",
    "        Dataframe containing two columns: 'title' and 'films_contained'. The latter of these takes\n",
    "        values of lists whilst the former takes string.\n",
    "                    \n",
    "    Returns\n",
    "    -------\n",
    "    string / np.NaN\n",
    "        String of comma separated boxsets if film is contained in at least one, else np.NaN.\n",
    "    \"\"\"\n",
    "    boxsets_contained_in = boxsets[pd.DataFrame(boxsets.films_contained.tolist())\n",
    "                                     .isin([title]).values]['title'].values.tolist()      \n",
    "    # ^^ this method is used to pull up a list of all titles from boxsets where films_contained \n",
    "    # contains title. the list will exist but be empty if none exist.\n",
    "        \n",
    "    if len(boxsets_contained_in) > 0:\n",
    "        return ', '.join(boxsets_contained_in)\n",
    "    \n",
    "    else: \n",
    "        return np.nan\n",
    "    \n",
    "    \n",
    "boxsets = df[df['boxset'] == 1][['title', 'films_contained']].copy().reset_index()\n",
    "boxsets['films_contained'] = boxsets['films_contained'].str.split(',')\n",
    "\n",
    "df['boxsets_contained_in'] = df.apply(lambda x: get_boxsets_contained_in(x['title'], boxsets), axis=1)\n",
    "df['included_in_boxset'] = np.where(df['boxsets_contained_in'].isna(), 0, 1)"
   ]
  },
  {
   "cell_type": "markdown",
   "metadata": {},
   "source": [
    "next off ive noticed some boxsets which have the director in the title / all movies are by the same person but whos 'director' variable is NULL. same would hold for country I'd guess. this should get rectified lads.\n",
    "\n",
    "the code bellow could be a bit fluffy, since there are around forty directors who aparently hail from multiple countries. for the sake of the join I've opted to just take the first country they were associated too but there might be a better way of doing this (prehaps take the country they were associated too during the film via its original country of origin?)"
   ]
  },
  {
   "cell_type": "code",
   "execution_count": 23,
   "metadata": {
    "scrolled": true
   },
   "outputs": [],
   "source": [
    "def get_director_from_title(\n",
    "    directors_lst,\n",
    "    title,\n",
    "    boxset_director,\n",
    "):\n",
    "    \"\"\"Function gets the director from the boxsets title, if it is contained within.\n",
    "    \n",
    "    Parameters\n",
    "    ----------\n",
    "    directors_lst : list\n",
    "        List of directors present in the data.\n",
    "    title : string\n",
    "        Title of the boxset in question.\n",
    "    boxset_director : string / np.NaN\n",
    "        Current name of director.\n",
    "        \n",
    "    Returns\n",
    "    -------\n",
    "    string / np.NaN\n",
    "        Either returns a directors name, or a NaN obj \n",
    "    \"\"\"\n",
    "    if pd.isna(boxset_director):\n",
    "        for director in directors_lst:\n",
    "            if director in title:\n",
    "                boxset_director = director\n",
    "    \n",
    "    return boxset_director\n",
    "\n",
    "\n",
    "directors = df['director'].dropna().unique().tolist()\n",
    "df['director'] = df.apply(lambda x: get_director_from_title(directors, x['title'], x['director']), axis=1)\n",
    "\n",
    "countrys = df[['director', 'country']].dropna().drop_duplicates(subset=['director'], keep='first')\n",
    "countrys.columns = ['director', 'country_2']\n",
    "\n",
    "df = pd.merge(df, countrys, on='director', how='left')\n",
    "\n",
    "df['country'] = df['country'].fillna(df['country_2'])\n",
    "df.drop('country_2', axis=1, inplace=True)"
   ]
  },
  {
   "cell_type": "markdown",
   "metadata": {},
   "source": [
    "Next up I think all those countries of origin might be hard to manage initially, so adding continent would go down a treat.\n",
    "\n",
    "I've had to make some substitutions to get the pycountry_convert package to work since I'd still rather use that then look for a more complete dataset. The only controversial one really is Yugoslavia which has actually been split up into many countries since. since all these new countries exist in europe anyways and we've only done this to get continent as a variable however i see no issue in just taking serbia as its country. \n",
    "\n",
    "whilst continent code would be enough for me to go off usually, the code 'NA' will be read in as a NULL value if you don't already know to filter it during the read in so for the sake of me not getting clumsy I've opted to replace the codes with the actual continents, done via a merge rather than a replace here for unknown reasons."
   ]
  },
  {
   "cell_type": "code",
   "execution_count": 57,
   "metadata": {},
   "outputs": [],
   "source": [
    "df['country_code'] = df.apply(lambda x: pcc.country_name_to_country_alpha2(x['country']\\\n",
    "                                                                           .replace('Soviet Union', 'Russia')\\\n",
    "                                                                           .replace('West ', '')\\\n",
    "                                                                           .replace('Czechoslovakia', 'Czechia')\\\n",
    "                                                                           .replace('Yugoslavia', 'Serbia'),\n",
    "                                                                           cn_name_format=\"default\")\n",
    "                              if(pd.notnull(x['country'])) else np.nan, axis=1)\n",
    "\n",
    "df['continent_code'] = df.apply(lambda x: pcc.country_alpha2_to_continent_code(x['country_code'])\n",
    "                                if(pd.notnull(x['country_code'])) else np.nan, axis=1)\n",
    "\n",
    "continents = pd.DataFrame([['EU', 'Europe'],\n",
    "                           ['NA', 'North America'],\n",
    "                           ['AS', 'Asia'],\n",
    "                           ['OC', 'Oceania'],\n",
    "                           ['AF', 'Africa'],\n",
    "                           ['SA', 'South America']],\n",
    "                         columns=['continent_code', 'continent'])\n",
    "\n",
    "df = pd.merge(df, continents, on='continent_code', how='left')\n",
    "df.drop('country_code', axis=1, inplace=True)\n",
    "df.drop('continent_code', axis=1, inplace=True)"
   ]
  },
  {
   "cell_type": "markdown",
   "metadata": {},
   "source": [
    "I was hoping to get some user scores for the films themselves but its been next to impossible to track down either a dataset or a website that houses scores for old, hipster movies like half of these. instead I've gone with a website i found called criterionforum which had a section for reviews. \n",
    "\n",
    "the resultant data has no review of film quality, only picture, audio and extras which i guess is to be expected given the nature of the product in question. \n",
    "\n",
    "despite the sites name, it also seems to house reviews for other boutique bluray companies products such as 'arrow'. for now i wont use this information, but might be worth something later on?\n",
    "\n",
    "the site has a section for films whose names start with numbers which is unfortunately not accessible so all those movies are missed, i.e. the data is only movies who begin with letters a-z.\n",
    "\n",
    "The site appears to be someones hobby so likely does not give total coverage of the collection. a view of the heatmap bellow confirms this. its still better than nothing though... right?\n",
    "\n",
    "as a final caveat for this data the guy who does the reviews actually reviews the same film multiple times for each available format, leading to cases of two or even three rows for a single film. I'm not too sure how I want to handle this going forwards but for now I'll take the most recent releases' data. \n",
    "\n",
    "all that for some heavily biased review scores lol. ive attached it to the data either way hopefully some good comes of it"
   ]
  },
  {
   "cell_type": "code",
   "execution_count": 36,
   "metadata": {},
   "outputs": [],
   "source": [
    "reviews_df = pd.read_json('data/boutique_bluray_reviews.json')\n",
    "\n",
    "reviews_df.drop(['date_scraped', 'time_scraped', 'scores', 'company'], axis=1, inplace=True)\n",
    "\n",
    "reviews_df['year_of_disk_release'] = reviews_df['year_of_disk_release'].str.replace(')', '')\n",
    "reviews_df['decade_of_disk_release'] = reviews_df['year_of_disk_release'].str[:3] + '0' \n",
    "reviews_df['year_of_disk_release'] = reviews_df['year_of_disk_release'].astype(int)\n",
    "\n",
    "most_recent_reviews_df = reviews_df.loc[reviews_df.groupby('title')['year_of_disk_release'].idxmax()]\n",
    "\n",
    "df = pd.merge(df, most_recent_reviews_df, on='title', how='left')"
   ]
  },
  {
   "cell_type": "markdown",
   "metadata": {},
   "source": [
    "I'll now replot the null heatmap to see how these new variables are behaving in their rawest form"
   ]
  },
  {
   "cell_type": "code",
   "execution_count": 43,
   "metadata": {},
   "outputs": [
    {
     "data": {
      "text/plain": [
       "<AxesSubplot:>"
      ]
     },
     "execution_count": 43,
     "metadata": {},
     "output_type": "execute_result"
    },
    {
     "data": {
      "image/png": "[encoded data removed]",
      "text/plain": [
       "<Figure size 720x720 with 2 Axes>"
      ]
     },
     "metadata": {
      "needs_background": "light"
     },
     "output_type": "display_data"
    }
   ],
   "source": [
    "fig, ax = plt.subplots(figsize=(10, 10))\n",
    "sns.heatmap(data=df.isna(), ax=ax)"
   ]
  },
  {
   "cell_type": "markdown",
   "metadata": {},
   "source": [
    "the huge chunk of nulls which is also null for the review score data is kind of curious?\n",
    "other than that all looking good though i think..."
   ]
  },
  {
   "cell_type": "code",
   "execution_count": 46,
   "metadata": {},
   "outputs": [],
   "source": [
    "df.to_csv('data/criterion_cleaned.csv', index=False)"
   ]
  }
 ],
 "metadata": {
  "kernelspec": {
   "display_name": "Python 3",
   "language": "python",
   "name": "python3"
  },
  "language_info": {
   "codemirror_mode": {
    "name": "ipython",
    "version": 3
   },
   "file_extension": ".py",
   "mimetype": "text/x-python",
   "name": "python",
   "nbconvert_exporter": "python",
   "pygments_lexer": "ipython3",
   "version": "3.7.7"
  }
 },
 "nbformat": 4,
 "nbformat_minor": 4
}
